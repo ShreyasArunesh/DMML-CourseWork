{
 "cells": [
  {
   "cell_type": "code",
   "execution_count": 7,
   "id": "9e33493a",
   "metadata": {},
   "outputs": [
    {
     "name": "stdout",
     "output_type": "stream",
     "text": [
      "Requirement already satisfied: pandas in /opt/anaconda3/lib/python3.8/site-packages (1.2.4)\r\n",
      "Requirement already satisfied: python-dateutil>=2.7.3 in /opt/anaconda3/lib/python3.8/site-packages (from pandas) (2.8.1)\r\n",
      "Requirement already satisfied: pytz>=2017.3 in /opt/anaconda3/lib/python3.8/site-packages (from pandas) (2021.1)\r\n",
      "Requirement already satisfied: numpy>=1.16.5 in /opt/anaconda3/lib/python3.8/site-packages (from pandas) (1.20.1)\r\n",
      "Requirement already satisfied: six>=1.5 in /opt/anaconda3/lib/python3.8/site-packages (from python-dateutil>=2.7.3->pandas) (1.15.0)\r\n"
     ]
    }
   ],
   "source": [
    "!pip install pandas"
   ]
  },
  {
   "cell_type": "code",
   "execution_count": 1,
   "id": "ed413860",
   "metadata": {},
   "outputs": [],
   "source": [
    "import pandas as pd\n",
    "import numpy as np\n",
    "# import seaborn as sn\n",
    "import matplotlib as plt\n",
    "import PIL\n",
    "from PIL import Image\n",
    "from matplotlib import image\n",
    "import os\n",
    "import shutil\n",
    "from matplotlib import image\n",
    "from matplotlib import pyplot\n",
    "import random\n",
    "import shutil\n",
    "from pathlib import Path\n",
    "import glob\n",
    "import shutil\n",
    "import os\n",
    "from pathlib import Path\n",
    "\n",
    "import tensorflow as tf"
   ]
  },
  {
   "cell_type": "code",
   "execution_count": 2,
   "id": "1198f22d",
   "metadata": {},
   "outputs": [
    {
     "ename": "ModuleNotFoundError",
     "evalue": "No module named 'keras'",
     "output_type": "error",
     "traceback": [
      "\u001b[0;31m---------------------------------------------------------------------------\u001b[0m",
      "\u001b[0;31mModuleNotFoundError\u001b[0m                       Traceback (most recent call last)",
      "\u001b[0;32m/var/folders/pw/nyllhyq16td508_n_pwmd5fr0000gn/T/ipykernel_43773/2839494201.py\u001b[0m in \u001b[0;36m<module>\u001b[0;34m\u001b[0m\n\u001b[0;32m----> 1\u001b[0;31m \u001b[0;32mfrom\u001b[0m \u001b[0mkeras\u001b[0m\u001b[0;34m.\u001b[0m\u001b[0mpreprocessing\u001b[0m\u001b[0;34m.\u001b[0m\u001b[0mimage\u001b[0m \u001b[0;32mimport\u001b[0m \u001b[0mImageDataGenerator\u001b[0m\u001b[0;34m\u001b[0m\u001b[0;34m\u001b[0m\u001b[0m\n\u001b[0m",
      "\u001b[0;31mModuleNotFoundError\u001b[0m: No module named 'keras'"
     ]
    }
   ],
   "source": [
    "from keras.preprocessing.image import ImageDataGenerator\n"
   ]
  },
  {
   "cell_type": "code",
   "execution_count": 3,
   "id": "0b560180",
   "metadata": {},
   "outputs": [],
   "source": [
    "import tensorflow as tf"
   ]
  },
  {
   "cell_type": "code",
   "execution_count": 2,
   "id": "af84ee91",
   "metadata": {},
   "outputs": [],
   "source": [
    "random.seed(1)\n",
    "\n",
    "datadir = 'archive/train/'"
   ]
  },
  {
   "cell_type": "code",
   "execution_count": 4,
   "id": "9c718c93",
   "metadata": {},
   "outputs": [],
   "source": [
    "# Randomly shuffuling the the data\n",
    "\n",
    "metadataset = pd.read_csv(\"archive/train_annotations.csv\")\n",
    "metadataset = metadataset.sample(frac=1, random_state=1).reset_index(drop=True)"
   ]
  },
  {
   "cell_type": "code",
   "execution_count": 6,
   "id": "57aeb0ab",
   "metadata": {},
   "outputs": [],
   "source": [
    "# Dividing the image data into sub-folders of classes- Test / train and with 25% of test data \n",
    "\n",
    "for i in range(metadataset.shape[0]):\n",
    "    if i < metadataset.shape[0] * 0.75:\n",
    "        category = \"train\"\n",
    "    else:\n",
    "        category = \"test\"\n",
    "    if metadataset.iloc[i,5] == 0:\n",
    "        target = \"Negative\"\n",
    "    else:\n",
    "        target = \"Positive\"\n",
    "    dst_dir = f'{os.getcwd()}/Image_Data/{category}/{target}/'\n",
    "    Path(dst_dir).mkdir(parents=True, exist_ok=True)\n",
    "    shutil.copy(f'{os.getcwd()}/archive/train/{metadataset.iloc[i,9]}', dst_dir)"
   ]
  },
  {
   "cell_type": "code",
   "execution_count": null,
   "id": "b90d76c1",
   "metadata": {},
   "outputs": [],
   "source": []
  },
  {
   "cell_type": "code",
   "execution_count": null,
   "id": "426d6e2b",
   "metadata": {},
   "outputs": [],
   "source": []
  },
  {
   "cell_type": "code",
   "execution_count": null,
   "id": "9aa91230",
   "metadata": {},
   "outputs": [],
   "source": []
  },
  {
   "cell_type": "code",
   "execution_count": 7,
   "id": "487ac05a",
   "metadata": {},
   "outputs": [
    {
     "name": "stdout",
     "output_type": "stream",
     "text": [
      "(25, 25)\n"
     ]
    },
    {
     "data": {
      "image/png": "[encoded data removed]",
      "text/plain": [
       "<Figure size 432x288 with 1 Axes>"
      ]
     },
     "metadata": {
      "needs_background": "light"
     },
     "output_type": "display_data"
    }
   ],
   "source": [
    "# load image as pixel array\n",
    "data = image.imread('archive/train/a44afa4fa73d/403614c1f263/6489245ff976.jpg')\n",
    "data = Image.fromarray(data).resize((25,25))\n",
    "# summarize shape of the pixel array\n",
    "print(data.size)\n",
    "# display the array of pixels as an image\n",
    "pyplot.imshow(data)\n",
    "pyplot.show()"
   ]
  },
  {
   "cell_type": "code",
   "execution_count": null,
   "id": "12438493",
   "metadata": {},
   "outputs": [],
   "source": []
  },
  {
   "cell_type": "code",
   "execution_count": null,
   "id": "aedd37fe",
   "metadata": {},
   "outputs": [],
   "source": []
  },
  {
   "cell_type": "code",
   "execution_count": null,
   "id": "7f769227",
   "metadata": {},
   "outputs": [],
   "source": []
  },
  {
   "cell_type": "code",
   "execution_count": null,
   "id": "b98a5804",
   "metadata": {},
   "outputs": [],
   "source": []
  },
  {
   "cell_type": "code",
   "execution_count": null,
   "id": "32ce5e7d",
   "metadata": {},
   "outputs": [],
   "source": []
  },
  {
   "cell_type": "code",
   "execution_count": 21,
   "id": "b76c9eff",
   "metadata": {},
   "outputs": [
    {
     "name": "stdout",
     "output_type": "stream",
     "text": [
      "train:        7      8      10     12     14     15     20     21     22     24   \\\n",
      "0    125.0  134.0  145.0  130.0   91.0   82.0   48.0   31.0   24.0   43.0   \n",
      "1     16.0   42.0  108.0  184.0  182.0  117.0   13.0   14.0   16.0   18.0   \n",
      "2    106.0  113.0  160.0  200.0  200.0  171.0   81.0   77.0   62.0   26.0   \n",
      "3      7.0   84.0  159.0  154.0   84.0    8.0    3.0    2.0    2.0    2.0   \n",
      "4     57.0   70.0   93.0   97.0   86.0   75.0   54.0   54.0   55.0   56.0   \n",
      "..     ...    ...    ...    ...    ...    ...    ...    ...    ...    ...   \n",
      "595   15.0   24.0  114.0  179.0  176.0  156.0   98.0  121.0  108.0   85.0   \n",
      "596    0.0    0.0    0.0    0.0    0.0    0.0   10.0   11.0   12.0    9.0   \n",
      "597   37.0   21.0    3.0  168.0  168.0  181.0    1.0    3.0    3.0    3.0   \n",
      "598  124.0  162.0  182.0  182.0  185.0  182.0  187.0  195.0  200.0  197.0   \n",
      "599  139.0  140.0  138.0  130.0  118.0  116.0  126.0  129.0  131.0   80.0   \n",
      "\n",
      "     ...    584    586    587    589    590    593    594    596    598    599  \n",
      "0    ...  246.0  254.0  254.0  248.0  242.0  207.0  189.0  161.0   18.0   29.0  \n",
      "1    ...  226.0  230.0  230.0  217.0  208.0  177.0   82.0   12.0   13.0   14.0  \n",
      "2    ...  242.0  240.0  241.0  240.0  240.0  240.0  238.0  227.0  184.0  161.0  \n",
      "3    ...  178.0  223.0  223.0  200.0  211.0  198.0  185.0   68.0    5.0   44.0  \n",
      "4    ...  255.0  255.0  255.0  255.0  255.0  240.0  234.0  215.0  148.0  114.0  \n",
      "..   ...    ...    ...    ...    ...    ...    ...    ...    ...    ...    ...  \n",
      "595  ...  198.0  195.0  197.0  210.0  204.0  177.0  188.0  169.0  143.0  126.0  \n",
      "596  ...  189.0  189.0  187.0  185.0  183.0  181.0  179.0  171.0  162.0  166.0  \n",
      "597  ...  212.0  213.0  213.0  215.0  210.0  192.0  195.0  198.0  138.0   49.0  \n",
      "598  ...  174.0  186.0  160.0  157.0  173.0  161.0  156.0  185.0   75.0   55.0  \n",
      "599  ...  142.0  140.0  138.0  139.0  138.0  133.0  127.0  123.0   64.0   24.0  \n",
      "\n",
      "[600 rows x 300 columns], test:        0     1     2      3      4      5      6      9      11     13   ...  \\\n",
      "0     26.0  26.0  26.0   24.0   20.0   10.0   50.0  148.0  143.0  118.0  ...   \n",
      "1     10.0  10.0   9.0    8.0    7.0    5.0    5.0   62.0  143.0  181.0  ...   \n",
      "2     28.0  26.0  39.0   68.0   86.0   92.0   98.0  132.0  176.0  207.0  ...   \n",
      "3     34.0  15.0   2.0    3.0    0.0   13.0   19.0  143.0  142.0  119.0  ...   \n",
      "4     59.0  57.0  55.0   54.0   55.0   55.0   55.0   84.0   99.0   97.0  ...   \n",
      "..     ...   ...   ...    ...    ...    ...    ...    ...    ...    ...  ...   \n",
      "595   18.0  32.0  23.0   10.0    1.0    1.0    5.0   51.0  145.0  170.0  ...   \n",
      "596    0.0   0.0   0.0    0.0    0.0    0.0    0.0    0.0    0.0    0.0  ...   \n",
      "597  132.0   5.0   1.0    4.0   35.0   36.0   36.0    1.0  101.0  183.0  ...   \n",
      "598   46.0  30.0  26.0   69.0   88.0   86.0   85.0  174.0  188.0  194.0  ...   \n",
      "599   17.0  16.0  22.0  112.0  135.0  139.0  138.0  140.0  135.0  126.0  ...   \n",
      "\n",
      "       569    573    574    582    585    588    591    592    595    597  \n",
      "0    168.0   20.0   30.0  230.0  251.0  253.0  234.0  220.0  174.0   72.0  \n",
      "1     85.0   13.0   14.0  216.0  227.0  226.0  202.0  196.0    6.0   12.0  \n",
      "2    230.0  185.0  168.0  242.0  241.0  241.0  241.0  241.0  237.0  212.0  \n",
      "3    167.0   14.0   50.0  143.0  207.0  201.0  214.0  208.0  178.0    0.0  \n",
      "4    227.0  147.0  113.0  253.0  255.0  255.0  255.0  249.0  228.0  190.0  \n",
      "..     ...    ...    ...    ...    ...    ...    ...    ...    ...    ...  \n",
      "595  199.0  139.0  120.0  163.0  199.0  208.0  190.0  180.0  196.0  150.0  \n",
      "596  178.0  163.0  167.0  187.0  190.0  186.0  183.0  183.0  176.0  167.0  \n",
      "597  179.0  128.0   35.0  211.0  214.0  215.0  210.0  201.0  193.0  179.0  \n",
      "598  156.0   38.0   53.0  166.0  187.0  150.0  167.0  134.0  185.0  202.0  \n",
      "599  123.0   46.0   21.0  143.0  141.0  139.0  132.0  133.0  125.0  117.0  \n",
      "\n",
      "[600 rows x 300 columns]\n",
      "train:        0     1     2      3      4      5      6      9      11     13   ...  \\\n",
      "0     26.0  26.0  26.0   24.0   20.0   10.0   50.0  148.0  143.0  118.0  ...   \n",
      "1     10.0  10.0   9.0    8.0    7.0    5.0    5.0   62.0  143.0  181.0  ...   \n",
      "2     28.0  26.0  39.0   68.0   86.0   92.0   98.0  132.0  176.0  207.0  ...   \n",
      "3     34.0  15.0   2.0    3.0    0.0   13.0   19.0  143.0  142.0  119.0  ...   \n",
      "4     59.0  57.0  55.0   54.0   55.0   55.0   55.0   84.0   99.0   97.0  ...   \n",
      "..     ...   ...   ...    ...    ...    ...    ...    ...    ...    ...  ...   \n",
      "595   18.0  32.0  23.0   10.0    1.0    1.0    5.0   51.0  145.0  170.0  ...   \n",
      "596    0.0   0.0   0.0    0.0    0.0    0.0    0.0    0.0    0.0    0.0  ...   \n",
      "597  132.0   5.0   1.0    4.0   35.0   36.0   36.0    1.0  101.0  183.0  ...   \n",
      "598   46.0  30.0  26.0   69.0   88.0   86.0   85.0  174.0  188.0  194.0  ...   \n",
      "599   17.0  16.0  22.0  112.0  135.0  139.0  138.0  140.0  135.0  126.0  ...   \n",
      "\n",
      "       569    573    574    582    585    588    591    592    595    597  \n",
      "0    168.0   20.0   30.0  230.0  251.0  253.0  234.0  220.0  174.0   72.0  \n",
      "1     85.0   13.0   14.0  216.0  227.0  226.0  202.0  196.0    6.0   12.0  \n",
      "2    230.0  185.0  168.0  242.0  241.0  241.0  241.0  241.0  237.0  212.0  \n",
      "3    167.0   14.0   50.0  143.0  207.0  201.0  214.0  208.0  178.0    0.0  \n",
      "4    227.0  147.0  113.0  253.0  255.0  255.0  255.0  249.0  228.0  190.0  \n",
      "..     ...    ...    ...    ...    ...    ...    ...    ...    ...    ...  \n",
      "595  199.0  139.0  120.0  163.0  199.0  208.0  190.0  180.0  196.0  150.0  \n",
      "596  178.0  163.0  167.0  187.0  190.0  186.0  183.0  183.0  176.0  167.0  \n",
      "597  179.0  128.0   35.0  211.0  214.0  215.0  210.0  201.0  193.0  179.0  \n",
      "598  156.0   38.0   53.0  166.0  187.0  150.0  167.0  134.0  185.0  202.0  \n",
      "599  123.0   46.0   21.0  143.0  141.0  139.0  132.0  133.0  125.0  117.0  \n",
      "\n",
      "[600 rows x 300 columns], test:        7      8      10     12     14     15     20     21     22     24   \\\n",
      "0    125.0  134.0  145.0  130.0   91.0   82.0   48.0   31.0   24.0   43.0   \n",
      "1     16.0   42.0  108.0  184.0  182.0  117.0   13.0   14.0   16.0   18.0   \n",
      "2    106.0  113.0  160.0  200.0  200.0  171.0   81.0   77.0   62.0   26.0   \n",
      "3      7.0   84.0  159.0  154.0   84.0    8.0    3.0    2.0    2.0    2.0   \n",
      "4     57.0   70.0   93.0   97.0   86.0   75.0   54.0   54.0   55.0   56.0   \n",
      "..     ...    ...    ...    ...    ...    ...    ...    ...    ...    ...   \n",
      "595   15.0   24.0  114.0  179.0  176.0  156.0   98.0  121.0  108.0   85.0   \n",
      "596    0.0    0.0    0.0    0.0    0.0    0.0   10.0   11.0   12.0    9.0   \n",
      "597   37.0   21.0    3.0  168.0  168.0  181.0    1.0    3.0    3.0    3.0   \n",
      "598  124.0  162.0  182.0  182.0  185.0  182.0  187.0  195.0  200.0  197.0   \n",
      "599  139.0  140.0  138.0  130.0  118.0  116.0  126.0  129.0  131.0   80.0   \n",
      "\n",
      "     ...    584    586    587    589    590    593    594    596    598    599  \n",
      "0    ...  246.0  254.0  254.0  248.0  242.0  207.0  189.0  161.0   18.0   29.0  \n",
      "1    ...  226.0  230.0  230.0  217.0  208.0  177.0   82.0   12.0   13.0   14.0  \n",
      "2    ...  242.0  240.0  241.0  240.0  240.0  240.0  238.0  227.0  184.0  161.0  \n",
      "3    ...  178.0  223.0  223.0  200.0  211.0  198.0  185.0   68.0    5.0   44.0  \n",
      "4    ...  255.0  255.0  255.0  255.0  255.0  240.0  234.0  215.0  148.0  114.0  \n",
      "..   ...    ...    ...    ...    ...    ...    ...    ...    ...    ...    ...  \n",
      "595  ...  198.0  195.0  197.0  210.0  204.0  177.0  188.0  169.0  143.0  126.0  \n",
      "596  ...  189.0  189.0  187.0  185.0  183.0  181.0  179.0  171.0  162.0  166.0  \n",
      "597  ...  212.0  213.0  213.0  215.0  210.0  192.0  195.0  198.0  138.0   49.0  \n",
      "598  ...  174.0  186.0  160.0  157.0  173.0  161.0  156.0  185.0   75.0   55.0  \n",
      "599  ...  142.0  140.0  138.0  139.0  138.0  133.0  127.0  123.0   64.0   24.0  \n",
      "\n",
      "[600 rows x 300 columns]\n"
     ]
    },
    {
     "name": "stderr",
     "output_type": "stream",
     "text": [
      "/Users/shreyasarunesh/opt/anaconda3/lib/python3.8/site-packages/sklearn/utils/validation.py:70: FutureWarning: Pass shuffle=True, random_state=1 as keyword args. From version 1.0 (renaming of 0.25) passing these as positional arguments will result in an error\n",
      "  warnings.warn(f\"Pass {args_msg} as keyword args. From version \"\n"
     ]
    }
   ],
   "source": [
    "# 10 flod cross valiation\n",
    "\n",
    "from sklearn.model_selection import KFold\n",
    "kfold = KFold(2, True, 1)\n",
    "\n",
    "# enumerate splits\n",
    "for train, test in kfold.split(X):\n",
    "\tprint('train: %s, test: %s' % (X[train], X[test]))\n",
    "   "
   ]
  },
  {
   "cell_type": "code",
   "execution_count": 24,
   "id": "3af391a7",
   "metadata": {},
   "outputs": [
    {
     "data": {
      "text/plain": [
       "<bound method NDFrame.head of        0     1     2      3      4      5      6      9      11     13   ...  \\\n",
       "0     26.0  26.0  26.0   24.0   20.0   10.0   50.0  148.0  143.0  118.0  ...   \n",
       "1     10.0  10.0   9.0    8.0    7.0    5.0    5.0   62.0  143.0  181.0  ...   \n",
       "2     28.0  26.0  39.0   68.0   86.0   92.0   98.0  132.0  176.0  207.0  ...   \n",
       "3     34.0  15.0   2.0    3.0    0.0   13.0   19.0  143.0  142.0  119.0  ...   \n",
       "4     59.0  57.0  55.0   54.0   55.0   55.0   55.0   84.0   99.0   97.0  ...   \n",
       "..     ...   ...   ...    ...    ...    ...    ...    ...    ...    ...  ...   \n",
       "595   18.0  32.0  23.0   10.0    1.0    1.0    5.0   51.0  145.0  170.0  ...   \n",
       "596    0.0   0.0   0.0    0.0    0.0    0.0    0.0    0.0    0.0    0.0  ...   \n",
       "597  132.0   5.0   1.0    4.0   35.0   36.0   36.0    1.0  101.0  183.0  ...   \n",
       "598   46.0  30.0  26.0   69.0   88.0   86.0   85.0  174.0  188.0  194.0  ...   \n",
       "599   17.0  16.0  22.0  112.0  135.0  139.0  138.0  140.0  135.0  126.0  ...   \n",
       "\n",
       "       569    573    574    582    585    588    591    592    595    597  \n",
       "0    168.0   20.0   30.0  230.0  251.0  253.0  234.0  220.0  174.0   72.0  \n",
       "1     85.0   13.0   14.0  216.0  227.0  226.0  202.0  196.0    6.0   12.0  \n",
       "2    230.0  185.0  168.0  242.0  241.0  241.0  241.0  241.0  237.0  212.0  \n",
       "3    167.0   14.0   50.0  143.0  207.0  201.0  214.0  208.0  178.0    0.0  \n",
       "4    227.0  147.0  113.0  253.0  255.0  255.0  255.0  249.0  228.0  190.0  \n",
       "..     ...    ...    ...    ...    ...    ...    ...    ...    ...    ...  \n",
       "595  199.0  139.0  120.0  163.0  199.0  208.0  190.0  180.0  196.0  150.0  \n",
       "596  178.0  163.0  167.0  187.0  190.0  186.0  183.0  183.0  176.0  167.0  \n",
       "597  179.0  128.0   35.0  211.0  214.0  215.0  210.0  201.0  193.0  179.0  \n",
       "598  156.0   38.0   53.0  166.0  187.0  150.0  167.0  134.0  185.0  202.0  \n",
       "599  123.0   46.0   21.0  143.0  141.0  139.0  132.0  133.0  125.0  117.0  \n",
       "\n",
       "[600 rows x 300 columns]>"
      ]
     },
     "execution_count": 24,
     "metadata": {},
     "output_type": "execute_result"
    }
   ],
   "source": [
    "X[train].head"
   ]
  },
  {
   "cell_type": "code",
   "execution_count": 23,
   "id": "3952b7f2",
   "metadata": {},
   "outputs": [
    {
     "data": {
      "text/plain": [
       "(600, 300)"
      ]
     },
     "execution_count": 23,
     "metadata": {},
     "output_type": "execute_result"
    }
   ],
   "source": [
    "X[test].shape"
   ]
  },
  {
   "cell_type": "code",
   "execution_count": null,
   "id": "d74a3a20",
   "metadata": {},
   "outputs": [],
   "source": []
  },
  {
   "cell_type": "code",
   "execution_count": null,
   "id": "b7b99f1d",
   "metadata": {},
   "outputs": [],
   "source": []
  },
  {
   "cell_type": "code",
   "execution_count": null,
   "id": "a443eae7",
   "metadata": {},
   "outputs": [],
   "source": []
  },
  {
   "cell_type": "code",
   "execution_count": null,
   "id": "7dd061aa",
   "metadata": {},
   "outputs": [],
   "source": []
  },
  {
   "cell_type": "code",
   "execution_count": null,
   "id": "58235986",
   "metadata": {},
   "outputs": [],
   "source": []
  }
 ],
 "metadata": {
  "kernelspec": {
   "display_name": "Python 3 (ipykernel)",
   "language": "python",
   "name": "python3"
  },
  "language_info": {
   "codemirror_mode": {
    "name": "ipython",
    "version": 3
   },
   "file_extension": ".py",
   "mimetype": "text/x-python",
   "name": "python",
   "nbconvert_exporter": "python",
   "pygments_lexer": "ipython3",
   "version": "3.8.11"
  }
 },
 "nbformat": 4,
 "nbformat_minor": 5
}
